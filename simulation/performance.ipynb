{
 "cells": [
  {
   "cell_type": "code",
   "execution_count": 3,
   "id": "5b5cb4ff",
   "metadata": {},
   "outputs": [],
   "source": [
    "import pandas as pd\n",
    "import numpy as np\n",
    "import math"
   ]
  },
  {
   "cell_type": "code",
   "execution_count": 2,
   "id": "b17d07e9",
   "metadata": {},
   "outputs": [],
   "source": [
    "def performance(TP, TN, FP, FN, BETA):\n",
    "    \n",
    "    N = TP+TN+FP+FN\n",
    "    \n",
    "    Sensitivity=(TP/(TP+FN))*100\n",
    "\n",
    "    Specificity=(1-FP/(TN+FP))*100\n",
    "\n",
    "    Accuracy=((TP+TN)/(TP+TN+FP+FN))*100\n",
    "\n",
    "    PPV= (TP/(TP+FP))*100 \n",
    "\n",
    "    NPV= (TN/(TN+FN))*100 \n",
    "    \n",
    "    F_beta_score = (1+BETA**2)*((PPV*Sensitivity)/((PPV*(BETA**2))+Sensitivity)) \n",
    "    \n",
    "    result = {\n",
    "        'Sensitivity': [Sensitivity],\n",
    "        'Specificity': [Specificity],\n",
    "        'Accuracy':[Accuracy],\n",
    "        'PPV':[PPV],\n",
    "        'NPV':[NPV],\n",
    "        f'F_{BETA} score':[F_beta_score]\n",
    "    }\n",
    "    \n",
    "    result_2 = pd.DataFrame(result)\n",
    "    \n",
    "    return result_2\n"
   ]
  },
  {
   "cell_type": "code",
   "execution_count": null,
   "id": "6476fd7b",
   "metadata": {},
   "outputs": [],
   "source": [
    "result = pd.DataFrame()\n",
    "\n",
    "for i in range(1,1001):\n",
    "\n",
    "    TP = len(df[(df[f'event{i}']==1)&(df[f'pred_y{i}']==1)])\n",
    "    TN = len(df[(df[f'event{i}']==0)&(df[f'pred_y{i}']==0)])\n",
    "    FN = len(df[(df[f'event{i}']==1)&(df[f'pred_y{i}']==0)])\n",
    "    FP = len(df[(df[f'event{i}']==0)&(df[f'pred_y{i}']==1)])\n",
    "\n",
    "\n",
    "    result_i = performance(TP=TP, TN=TN, FP=FP, FN=FN, BETA=1)\n",
    "    \n",
    "    result = pd.concat([result, result_i])\n",
    "    \n",
    "result.index = [f\"result{i}\" for i in range(1, 1001)]\n",
    "\n",
    "print(result.head)\n",
    "print()\n",
    "\n",
    "result = pd.DataFrame(index=['mean'])\n",
    "\n",
    "result['mean_sens'] = result['Sensitivity'].mean()\n",
    "result['mean_spec'] = result['Specificity'].mean()\n",
    "result['mean_accu'] = result['Accuracy'].mean()\n",
    "result['mean_ppv'] = result['PPV'].mean()\n",
    "result['mean_npv'] = result['NPV'].mean()\n",
    "result['mean_F1'] = result['F_1 score'].mean()\n",
    "\n",
    "result"
   ]
  }
 ],
 "metadata": {
  "kernelspec": {
   "display_name": "Python 3 (ipykernel)",
   "language": "python",
   "name": "python3"
  },
  "language_info": {
   "codemirror_mode": {
    "name": "ipython",
    "version": 3
   },
   "file_extension": ".py",
   "mimetype": "text/x-python",
   "name": "python",
   "nbconvert_exporter": "python",
   "pygments_lexer": "ipython3",
   "version": "3.8.0"
  }
 },
 "nbformat": 4,
 "nbformat_minor": 5
}
