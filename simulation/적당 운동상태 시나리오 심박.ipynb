{
 "cells": [
  {
   "cell_type": "code",
   "execution_count": 1,
   "id": "5b5cb4ff",
   "metadata": {},
   "outputs": [],
   "source": [
    "import pandas as pd\n",
    "import numpy as np\n",
    "import random\n",
    "import seaborn as sns"
   ]
  },
  {
   "cell_type": "code",
   "execution_count": 2,
   "id": "6c8ae1a3",
   "metadata": {},
   "outputs": [
    {
     "data": {
      "text/html": [
       "<div>\n",
       "<style scoped>\n",
       "    .dataframe tbody tr th:only-of-type {\n",
       "        vertical-align: middle;\n",
       "    }\n",
       "\n",
       "    .dataframe tbody tr th {\n",
       "        vertical-align: top;\n",
       "    }\n",
       "\n",
       "    .dataframe thead th {\n",
       "        text-align: right;\n",
       "    }\n",
       "</style>\n",
       "<table border=\"1\" class=\"dataframe\">\n",
       "  <thead>\n",
       "    <tr style=\"text-align: right;\">\n",
       "      <th></th>\n",
       "      <th>update_time</th>\n",
       "    </tr>\n",
       "  </thead>\n",
       "  <tbody>\n",
       "    <tr>\n",
       "      <th>0</th>\n",
       "      <td>2023-10-01 00:00:00</td>\n",
       "    </tr>\n",
       "    <tr>\n",
       "      <th>1</th>\n",
       "      <td>2023-10-01 00:10:00</td>\n",
       "    </tr>\n",
       "    <tr>\n",
       "      <th>2</th>\n",
       "      <td>2023-10-01 00:20:00</td>\n",
       "    </tr>\n",
       "    <tr>\n",
       "      <th>3</th>\n",
       "      <td>2023-10-01 00:30:00</td>\n",
       "    </tr>\n",
       "    <tr>\n",
       "      <th>4</th>\n",
       "      <td>2023-10-01 00:40:00</td>\n",
       "    </tr>\n",
       "    <tr>\n",
       "      <th>...</th>\n",
       "      <td>...</td>\n",
       "    </tr>\n",
       "    <tr>\n",
       "      <th>1345</th>\n",
       "      <td>2023-10-10 08:10:00</td>\n",
       "    </tr>\n",
       "    <tr>\n",
       "      <th>1346</th>\n",
       "      <td>2023-10-10 08:20:00</td>\n",
       "    </tr>\n",
       "    <tr>\n",
       "      <th>1347</th>\n",
       "      <td>2023-10-10 08:30:00</td>\n",
       "    </tr>\n",
       "    <tr>\n",
       "      <th>1348</th>\n",
       "      <td>2023-10-10 08:40:00</td>\n",
       "    </tr>\n",
       "    <tr>\n",
       "      <th>1349</th>\n",
       "      <td>2023-10-10 08:50:00</td>\n",
       "    </tr>\n",
       "  </tbody>\n",
       "</table>\n",
       "<p>1350 rows × 1 columns</p>\n",
       "</div>"
      ],
      "text/plain": [
       "             update_time\n",
       "0    2023-10-01 00:00:00\n",
       "1    2023-10-01 00:10:00\n",
       "2    2023-10-01 00:20:00\n",
       "3    2023-10-01 00:30:00\n",
       "4    2023-10-01 00:40:00\n",
       "...                  ...\n",
       "1345 2023-10-10 08:10:00\n",
       "1346 2023-10-10 08:20:00\n",
       "1347 2023-10-10 08:30:00\n",
       "1348 2023-10-10 08:40:00\n",
       "1349 2023-10-10 08:50:00\n",
       "\n",
       "[1350 rows x 1 columns]"
      ]
     },
     "execution_count": 2,
     "metadata": {},
     "output_type": "execute_result"
    }
   ],
   "source": [
    "# update_time 데이터프레임 생성, 10분 단위로 생성\n",
    "date = pd.date_range('2023-10-01 00:00:00', periods=1350, freq='10T')\n",
    "\n",
    "# 임시 데이터 만들기\n",
    "q1 = pd.DataFrame()\n",
    "q1['a'] = 1\n",
    "\n",
    "# 데이터 합치기\n",
    "q = pd.DataFrame(q1, index = date)\n",
    "\n",
    "# datetimeindex를 변수로 변경\n",
    "q.reset_index(drop=False, inplace=True)\n",
    "\n",
    "# 필요없는 변수 삭제\n",
    "del q['a']\n",
    "\n",
    "# 변수명 변경\n",
    "q.rename(columns = {'index' : 'update_time'}, inplace = True)\n",
    "q"
   ]
  },
  {
   "cell_type": "markdown",
   "id": "b042d2a0",
   "metadata": {},
   "source": [
    "# 격렬한 운동 데이터 만들기"
   ]
  },
  {
   "cell_type": "markdown",
   "id": "15993095",
   "metadata": {},
   "source": [
    "### 20대 만들기\n",
    "- 일주일 + 3일(342) 만들기\n",
    "- 노이즈 5%, 10%"
   ]
  },
  {
   "cell_type": "code",
   "execution_count": 3,
   "id": "38a59baa",
   "metadata": {},
   "outputs": [
    {
     "data": {
      "text/plain": [
       "120.5"
      ]
     },
     "execution_count": 3,
     "metadata": {},
     "output_type": "execute_result"
    }
   ],
   "source": [
    "161+80\n",
    "241/2"
   ]
  },
  {
   "cell_type": "code",
   "execution_count": 35,
   "id": "1504e47a",
   "metadata": {},
   "outputs": [
    {
     "name": "stdout",
     "output_type": "stream",
     "text": [
      "                 0\n",
      "count  1350.000000\n",
      "mean    120.198293\n",
      "std      19.822399\n",
      "min      60.552943\n",
      "25%     106.147953\n",
      "50%     120.486728\n",
      "75%     133.813325\n",
      "max     190.125520\n",
      "70\n"
     ]
    }
   ],
   "source": [
    "print(pd.DataFrame(np.random.normal(120.5, 20, 1350)).describe())\n",
    "r_data = np.random.normal(120.5, 20, 1350)\n",
    "\n",
    "r = pd.DataFrame()\n",
    "r['a'] = r_data\n",
    "print(len(r[(r['a']<80)|(r['a']>161)]))"
   ]
  },
  {
   "cell_type": "code",
   "execution_count": 5,
   "id": "5429f0a7",
   "metadata": {},
   "outputs": [
    {
     "name": "stdout",
     "output_type": "stream",
     "text": [
      "(1350, 2000)\n"
     ]
    }
   ],
   "source": [
    "젊음 = pd.DataFrame()\n",
    "\n",
    "# 각 변수 생성과 데이터프레임 병합\n",
    "for i in range(1, 1001):\n",
    "   # 각 변수별로 다른 random seed 설정\n",
    "   np.random.seed(i)\n",
    "   \n",
    "   # 정규분포 랜덤 추출\n",
    "   # 일주일치 1008개\n",
    "   r_data = np.random.normal(120.5, 20, 1350) \n",
    "   r_data = r_data.astype(int)    \n",
    "   \n",
    "   # 변수명 생성 \n",
    "   var_name = f'heart_rate{i}'\n",
    "   \n",
    "   # 데이터프레임에 변수 추가\n",
    "   젊음[var_name] = r_data\n",
    "   \n",
    "   # event로 변수 생성\n",
    "   젊음[f'event{i}'] = 젊음[var_name].apply(lambda x: 1 if (x < 80 )|(x > 161) else 0 if 80 <= x <= 161 else x)\n",
    "   \n",
    "   # 변수(본포{i})마다 행 순서 바꾸기\n",
    "   np.random.seed(i)\n",
    "   젊음 = 젊음.sample(frac=1)\n",
    "   \n",
    "print(젊음.shape)"
   ]
  },
  {
   "cell_type": "code",
   "execution_count": 6,
   "id": "24039042",
   "metadata": {},
   "outputs": [],
   "source": [
    "# for i in range(1,1001):\n",
    "#     sns.kdeplot(젊음[f'heart_rate{i}'])"
   ]
  },
  {
   "cell_type": "code",
   "execution_count": 7,
   "id": "4f59805e",
   "metadata": {},
   "outputs": [
    {
     "data": {
      "text/plain": [
       "DatetimeIndex(['2023-10-01 00:00:00', '2023-10-01 00:10:00',\n",
       "               '2023-10-01 00:20:00', '2023-10-01 00:30:00',\n",
       "               '2023-10-01 00:40:00'],\n",
       "              dtype='datetime64[ns]', name='update_time', freq=None)"
      ]
     },
     "execution_count": 7,
     "metadata": {},
     "output_type": "execute_result"
    }
   ],
   "source": [
    "젊음.set_index(q['update_time'], inplace=True)\n",
    "젊음.index[:5]"
   ]
  },
  {
   "cell_type": "markdown",
   "id": "1c006378",
   "metadata": {},
   "source": [
    "## 중년"
   ]
  },
  {
   "cell_type": "code",
   "execution_count": 8,
   "id": "7648f249",
   "metadata": {},
   "outputs": [
    {
     "data": {
      "text/plain": [
       "108.5"
      ]
     },
     "execution_count": 8,
     "metadata": {},
     "output_type": "execute_result"
    }
   ],
   "source": [
    "70+147\n",
    "217/2"
   ]
  },
  {
   "cell_type": "code",
   "execution_count": 31,
   "id": "d174a2fa",
   "metadata": {},
   "outputs": [
    {
     "name": "stdout",
     "output_type": "stream",
     "text": [
      "                 0\n",
      "count  1350.000000\n",
      "mean    107.760805\n",
      "std      18.566019\n",
      "min      37.904863\n",
      "25%      96.028761\n",
      "50%     107.688817\n",
      "75%     120.096980\n",
      "max     158.349560\n",
      "54\n"
     ]
    }
   ],
   "source": [
    "r_data = np.random.normal(108.5, 19, 1350)\n",
    "print(pd.DataFrame(r_data).describe())\n",
    "\n",
    "r = pd.DataFrame()\n",
    "r['a'] = r_data\n",
    "print(len(r[(r['a']<70)|(r['a']>147)]))"
   ]
  },
  {
   "cell_type": "code",
   "execution_count": 10,
   "id": "bff1aaee",
   "metadata": {},
   "outputs": [
    {
     "name": "stdout",
     "output_type": "stream",
     "text": [
      "(1350, 2000)\n"
     ]
    }
   ],
   "source": [
    "# 한 분포에서 추출하기\n",
    "# train\n",
    "중년 = pd.DataFrame()\n",
    "\n",
    "# 각 변수 생성과 데이터프레임 병합\n",
    "for i in range(1, 1001):\n",
    "   # 각 변수별로 다른 random seed 설정\n",
    "   np.random.seed(i)\n",
    "   \n",
    "   # 정규분포 랜덤 추출\n",
    "   # 일주일치 1008개\n",
    "   r_data = np.random.normal(108.5, 19, 1350) \n",
    "   r_data = r_data.astype(int)    \n",
    "   \n",
    "   # 변수명 생성 \n",
    "   var_name = f'heart_rate{i}'\n",
    "   \n",
    "   # 데이터프레임에 변수 추가\n",
    "   중년[var_name] = r_data\n",
    "   \n",
    "   # event로 변수 생성\n",
    "   중년[f'event{i}'] = 중년[var_name].apply(lambda x: 1 if (x < 70 )|(x > 147) else 0 if 70 <= x <= 147 else x)\n",
    "   \n",
    "   # 변수(본포{i})마다 행 순서 바꾸기\n",
    "   np.random.seed(i)\n",
    "   중년 = 중년.sample(frac=1)\n",
    "   \n",
    "print(중년.shape)"
   ]
  },
  {
   "cell_type": "code",
   "execution_count": 11,
   "metadata": {},
   "outputs": [
    {
     "data": {
      "text/plain": [
       "DatetimeIndex(['2023-10-01 00:00:00', '2023-10-01 00:10:00',\n",
       "               '2023-10-01 00:20:00', '2023-10-01 00:30:00',\n",
       "               '2023-10-01 00:40:00'],\n",
       "              dtype='datetime64[ns]', name='update_time', freq=None)"
      ]
     },
     "execution_count": 11,
     "metadata": {},
     "output_type": "execute_result"
    }
   ],
   "source": [
    "중년.set_index(q['update_time'], inplace=True)\n",
    "중년.index[:5]"
   ]
  },
  {
   "cell_type": "markdown",
   "id": "2be2ad64",
   "metadata": {},
   "source": [
    "## 장년"
   ]
  },
  {
   "cell_type": "code",
   "execution_count": 12,
   "id": "b9d22b89",
   "metadata": {},
   "outputs": [
    {
     "data": {
      "text/plain": [
       "97.0"
      ]
     },
     "execution_count": 12,
     "metadata": {},
     "output_type": "execute_result"
    }
   ],
   "source": [
    "60+134\n",
    "194/2"
   ]
  },
  {
   "cell_type": "code",
   "execution_count": 30,
   "id": "a9b409ef",
   "metadata": {},
   "outputs": [
    {
     "name": "stdout",
     "output_type": "stream",
     "text": [
      "                 0\n",
      "count  1350.000000\n",
      "mean     96.249868\n",
      "std      17.960530\n",
      "min      39.222687\n",
      "25%      84.863947\n",
      "50%      96.258752\n",
      "75%     107.777397\n",
      "max     149.559990\n",
      "60\n"
     ]
    }
   ],
   "source": [
    "r_data = np.random.normal(97, 18.5, 1350)\n",
    "print(pd.DataFrame(r_data).describe())\n",
    "\n",
    "r = pd.DataFrame()\n",
    "r['a'] = r_data\n",
    "print(len(r[(r['a']<60)|(r['a']>134)]))"
   ]
  },
  {
   "cell_type": "code",
   "execution_count": 14,
   "id": "558a76d2",
   "metadata": {},
   "outputs": [
    {
     "name": "stdout",
     "output_type": "stream",
     "text": [
      "(1350, 2000)\n"
     ]
    }
   ],
   "source": [
    "# 한 분포에서 추출하기\n",
    "# train\n",
    "장년 = pd.DataFrame()\n",
    "\n",
    "# 각 변수 생성과 데이터프레임 병합\n",
    "for i in range(1, 1001):\n",
    "   # 각 변수별로 다른 random seed 설정\n",
    "   np.random.seed(i)\n",
    "   \n",
    "   # 정규분포 랜덤 추출\n",
    "   # 일주일치 1008개\n",
    "   r_data = np.random.normal(97, 18.5, 1350) \n",
    "   r_data = r_data.astype(int)    \n",
    "   \n",
    "   # 변수명 생성 \n",
    "   var_name = f'heart_rate{i}'\n",
    "   \n",
    "   # 데이터프레임에 변수 추가\n",
    "   장년[var_name] = r_data\n",
    "   \n",
    "   # event로 변수 생성\n",
    "   장년[f'event{i}'] = 장년[var_name].apply(lambda x: 1 if (x < 60 )|(x > 134) else 0 if 60 <= x <= 134 else x)\n",
    "   \n",
    "   # 변수(본포{i})마다 행 순서 바꾸기\n",
    "   np.random.seed(i)\n",
    "   장년 = 장년.sample(frac=1)\n",
    "   \n",
    "print(장년.shape)"
   ]
  },
  {
   "cell_type": "code",
   "execution_count": 15,
   "id": "cb4313ab",
   "metadata": {},
   "outputs": [
    {
     "data": {
      "text/plain": [
       "DatetimeIndex(['2023-10-01 00:00:00', '2023-10-01 00:10:00',\n",
       "               '2023-10-01 00:20:00', '2023-10-01 00:30:00',\n",
       "               '2023-10-01 00:40:00'],\n",
       "              dtype='datetime64[ns]', name='update_time', freq=None)"
      ]
     },
     "execution_count": 15,
     "metadata": {},
     "output_type": "execute_result"
    }
   ],
   "source": [
    "장년.set_index(q['update_time'], inplace=True)\n",
    "장년.index[:5]"
   ]
  },
  {
   "cell_type": "code",
   "execution_count": 36,
   "id": "f68722b1",
   "metadata": {},
   "outputs": [],
   "source": [
    "젊음.to_csv('./re/젊음_적당.csv')\n",
    "중년.to_csv('./re/중년_적당.csv')\n",
    "장년.to_csv('./re/장년_적당.csv')"
   ]
  }
 ],
 "metadata": {
  "kernelspec": {
   "display_name": "Python 3 (ipykernel)",
   "language": "python",
   "name": "python3"
  },
  "language_info": {
   "codemirror_mode": {
    "name": "ipython",
    "version": 3
   },
   "file_extension": ".py",
   "mimetype": "text/x-python",
   "name": "python",
   "nbconvert_exporter": "python",
   "pygments_lexer": "ipython3",
   "version": "3.8.0"
  }
 },
 "nbformat": 4,
 "nbformat_minor": 5
}
